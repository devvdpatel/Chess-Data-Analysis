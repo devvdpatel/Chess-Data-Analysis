{
  "nbformat": 4,
  "nbformat_minor": 0,
  "metadata": {
    "colab": {
      "provenance": [],
      "authorship_tag": "ABX9TyND4jmwz2W4t6z4anCPDuCt"
    },
    "kernelspec": {
      "name": "python3",
      "display_name": "Python 3"
    },
    "language_info": {
      "name": "python"
    }
  },
  "cells": [
    {
      "cell_type": "code",
      "source": [
        "!pip install chess\n"
      ],
      "metadata": {
        "id": "c7rIQcoUCrRA",
        "colab": {
          "base_uri": "https://localhost:8080/"
        },
        "outputId": "06d8bc74-49dc-46c0-fabe-ee9fcf289c4c"
      },
      "execution_count": null,
      "outputs": [
        {
          "output_type": "stream",
          "name": "stdout",
          "text": [
            "Collecting chess\n",
            "  Downloading chess-1.10.0-py3-none-any.whl (154 kB)\n",
            "\u001b[?25l     \u001b[90m━━━━━━━━━━━━━━━━━━━━━━━━━━━━━━━━━━━━━━━━\u001b[0m \u001b[32m0.0/154.4 kB\u001b[0m \u001b[31m?\u001b[0m eta \u001b[36m-:--:--\u001b[0m\r\u001b[2K     \u001b[91m━━━━━━━━━━━━━━━━━━━━━━━━━━━━━━━━━━━━━\u001b[0m\u001b[90m╺\u001b[0m\u001b[90m━━\u001b[0m \u001b[32m143.4/154.4 kB\u001b[0m \u001b[31m4.1 MB/s\u001b[0m eta \u001b[36m0:00:01\u001b[0m\r\u001b[2K     \u001b[90m━━━━━━━━━━━━━━━━━━━━━━━━━━━━━━━━━━━━━━━━\u001b[0m \u001b[32m154.4/154.4 kB\u001b[0m \u001b[31m3.3 MB/s\u001b[0m eta \u001b[36m0:00:00\u001b[0m\n",
            "\u001b[?25hInstalling collected packages: chess\n",
            "Successfully installed chess-1.10.0\n"
          ]
        }
      ]
    },
    {
      "cell_type": "code",
      "source": [
        "import pandas as pd\n",
        "import numpy as np\n",
        "import matplotlib.pyplot as plt\n",
        "import chess\n",
        "import seaborn as sns\n",
        "import chess.pgn\n",
        "\n",
        "pd.set_option('display.max_columns', 500)\n",
        "plt.style.use('ggplot')\n",
        "plt.style.use('seaborn-colorblind')\n",
        "pal = sns.color_palette()"
      ],
      "metadata": {
        "id": "ZPf4vMBSC2IB",
        "colab": {
          "base_uri": "https://localhost:8080/"
        },
        "outputId": "408da9e3-deaa-4c99-a6e5-dc9bee3b6003"
      },
      "execution_count": null,
      "outputs": [
        {
          "output_type": "stream",
          "name": "stderr",
          "text": [
            "<ipython-input-2-e3f95c350057>:10: MatplotlibDeprecationWarning: The seaborn styles shipped by Matplotlib are deprecated since 3.6, as they no longer correspond to the styles shipped by seaborn. However, they will remain available as 'seaborn-v0_8-<style>'. Alternatively, directly use the seaborn API instead.\n",
            "  plt.style.use('seaborn-colorblind')\n"
          ]
        }
      ]
    },
    {
      "cell_type": "markdown",
      "source": [
        "#Chess Data Analysis Using Python\n",
        "\n",
        "In this Notebook, I will attempt to:\n",
        "1. Look at the general trends from the archive of games.\n",
        "2. Review top pairings and players.\n",
        "3. Use the chess python package to review a game\n",
        "4. Use the stockfish engine to analyze a game position\n",
        "5. See if we can successfully catch someone who might be using an engine during games.\n",
        "\n",
        "Our dataset is a collection of all professional chess games played from the year 2012.\n",
        "\n"
      ],
      "metadata": {
        "id": "OBdl_GdNCANT"
      }
    },
    {
      "cell_type": "markdown",
      "source": [
        "# 1. General Chess Trends"
      ],
      "metadata": {
        "id": "5rTPD4mvCsM8"
      }
    },
    {
      "cell_type": "code",
      "source": [
        "df = pd.read_csv('/twic_master.csv')\n",
        "#df  = pd.read_parquet('/content/twic_master.parquet')"
      ],
      "metadata": {
        "id": "s89fQMX2DC1m",
        "colab": {
          "base_uri": "https://localhost:8080/"
        },
        "outputId": "d208523d-6f3f-4a25-fbd2-db544db6f045"
      },
      "execution_count": null,
      "outputs": [
        {
          "output_type": "stream",
          "name": "stderr",
          "text": [
            "<ipython-input-3-591427cd8c04>:1: DtypeWarning: Columns (10,13,14,23,25) have mixed types. Specify dtype option on import or set low_memory=False.\n",
            "  df = pd.read_csv('/twic_master.csv')\n"
          ]
        }
      ]
    },
    {
      "cell_type": "code",
      "source": [
        "df.head()"
      ],
      "metadata": {
        "id": "ZdHe68bMLVyL"
      },
      "execution_count": null,
      "outputs": []
    },
    {
      "cell_type": "markdown",
      "source": [
        "#Which players occur the most in the archive?"
      ],
      "metadata": {
        "id": "NQ1yaX6hLqnf"
      }
    },
    {
      "cell_type": "code",
      "source": [
        "fig, ax = plt.subplots(figsize = (10,5))\n",
        "pd.concat([df['White'], df['Black']]).value_counts(ascending=True).tail(20).plot(kind='barh',\n",
        "                    ax=ax)\n",
        "ax.set_title('Players with most games played', fontsize=20)\n",
        "plt.show()"
      ],
      "metadata": {
        "id": "1PEL40gmLl6x"
      },
      "execution_count": null,
      "outputs": []
    },
    {
      "cell_type": "markdown",
      "source": [
        "#What we the top openings used each year?"
      ],
      "metadata": {
        "id": "AgIa87YrOhXj"
      }
    },
    {
      "cell_type": "code",
      "source": [
        "#change dtype of date to datetime\n",
        "df['Date'] = pd.to_datetime(df['Date'])\n",
        "df['Year'] = df['Date'].dt.year"
      ],
      "metadata": {
        "id": "iqjuXQlUMuas"
      },
      "execution_count": null,
      "outputs": []
    },
    {
      "cell_type": "code",
      "source": [
        "df['Year'].value_counts()"
      ],
      "metadata": {
        "id": "vyR_28GUOt7t"
      },
      "execution_count": null,
      "outputs": []
    },
    {
      "cell_type": "code",
      "source": [
        "df = df.query('2023 > Year > 2012')\n",
        "\n",
        "#query taking too long to run\n",
        "#df.groupby([\"Year\", \"Opening\"]).value_counts()"
      ],
      "metadata": {
        "id": "Tyg9HBbrPSKQ"
      },
      "execution_count": null,
      "outputs": []
    },
    {
      "cell_type": "code",
      "source": [
        "df.groupby([\"Year\", \"Opening\"]).size().unstack()"
      ],
      "metadata": {
        "id": "p5F2sL2EDWGw"
      },
      "execution_count": null,
      "outputs": []
    },
    {
      "cell_type": "code",
      "source": [
        "df['Year'].unique().sort()"
      ],
      "metadata": {
        "id": "72p0UMyRQyeP"
      },
      "execution_count": null,
      "outputs": []
    },
    {
      "cell_type": "code",
      "source": [
        "#myyear = 2018\n",
        "#\n",
        "for myyear in range(2013, 2023):\n",
        "    df.query('Year == @myyear')['Opening'].value_counts(ascending = True).tail(5).plot(kind = 'barh', title = myyear)\n",
        "    plt.show()\n",
        "\n",
        "#sicilian is a clear choice for most chess players\n",
        "#does not quite help us as there is not much change over the years"
      ],
      "metadata": {
        "id": "YbedFv2jDtC4"
      },
      "execution_count": null,
      "outputs": []
    },
    {
      "cell_type": "code",
      "source": [
        "fig, axs = plt.subplots(5, 2, figsize=(15,8))\n",
        "axs = axs.flatten()\n",
        "\n",
        "for i, myyear in enumerate(range(2013, 2023)):\n",
        "    df.query('Year == @myyear')['Opening'].value_counts(ascending = True).tail(5).plot(kind = 'barh', title = myyear,ax = axs[i])\n",
        "plt.tight_layout()\n",
        "plt.show()\n"
      ],
      "metadata": {
        "id": "vb_DyD7yUYHi"
      },
      "execution_count": null,
      "outputs": []
    },
    {
      "cell_type": "markdown",
      "source": [
        "#What % of the games were played online and how many were played over-the-board?"
      ],
      "metadata": {
        "id": "mwne8H8XHNF4"
      }
    },
    {
      "cell_type": "code",
      "source": [
        "df['Week'] = df['Date'].dt.isocalendar().week"
      ],
      "metadata": {
        "id": "XSQoOYnpMtrI"
      },
      "execution_count": null,
      "outputs": []
    },
    {
      "cell_type": "code",
      "source": [
        "df = df.sort_values('Date')\n",
        "df"
      ],
      "metadata": {
        "id": "NaLgIeojOL4W"
      },
      "execution_count": null,
      "outputs": []
    },
    {
      "cell_type": "code",
      "source": [
        "df['Online']"
      ],
      "metadata": {
        "id": "XmJvWbynOlCI"
      },
      "execution_count": null,
      "outputs": []
    },
    {
      "cell_type": "code",
      "source": [
        "fig, ax = plt.subplots(figsize=(15,5))\n",
        "df.groupby(['Year', 'Week'])['Online'].mean().plot(title = '% of games played online')\n",
        "plt.show()"
      ],
      "metadata": {
        "id": "oXeceK8VOZoD"
      },
      "execution_count": null,
      "outputs": []
    },
    {
      "cell_type": "markdown",
      "source": [
        "**Clear effects of the Covid-19 virus can be seen as almost all games were played online starting from late-2019 up until early-2022.**"
      ],
      "metadata": {
        "id": "SGyLKPgWQLcE"
      }
    },
    {
      "cell_type": "markdown",
      "source": [
        "#Use chess package to review games\n",
        "\n",
        "- Find the game with the biggest upset.\n"
      ],
      "metadata": {
        "id": "pxfnhsyARMB3"
      }
    },
    {
      "cell_type": "code",
      "source": [
        "df_elo = df.dropna(subset=['BlackElo', 'WhiteElo']).astype({'BlackElo': int, 'WhiteElo' : int}).copy()\n",
        "df_elo['Elo_diff'] = (df_elo['BlackElo'] - df_elo['WhiteElo'])\n",
        "df_elo['Elo_diff']"
      ],
      "metadata": {
        "id": "vj-EMJJKRZOp"
      },
      "execution_count": null,
      "outputs": []
    },
    {
      "cell_type": "code",
      "source": [
        "df_elo.head()"
      ],
      "metadata": {
        "id": "_NqsXf87D-v7"
      },
      "execution_count": null,
      "outputs": []
    },
    {
      "cell_type": "code",
      "source": [
        "df_elo['Elo_diff'].plot(kind='hist', bins=50)"
      ],
      "metadata": {
        "colab": {
          "base_uri": "https://localhost:8080/",
          "height": 462
        },
        "id": "gcBamjoHFm4i",
        "outputId": "fe6575a3-f139-4d6f-9d13-7996ce59e476"
      },
      "execution_count": null,
      "outputs": [
        {
          "output_type": "execute_result",
          "data": {
            "text/plain": [
              "<Axes: ylabel='Frequency'>"
            ]
          },
          "metadata": {},
          "execution_count": 18
        },
        {
          "output_type": "display_data",
          "data": {
            "text/plain": [
              "<Figure size 640x480 with 1 Axes>"
            ],
            "image/png": "[encoded data removed]"
          },
          "metadata": {}
        }
      ]
    },
    {
      "cell_type": "code",
      "source": [
        "#df_elo['Elo_diff'].max()\n",
        "#df_elo.loc[df_elo['Elo_diff'] == 201942]\n",
        "df_elo = df_elo.drop(1662955)"
      ],
      "metadata": {
        "id": "te-pzaYjFwOh"
      },
      "execution_count": null,
      "outputs": []
    },
    {
      "cell_type": "code",
      "source": [
        "ax = df_elo['Elo_diff'].plot(kind='hist', bins=50, title = 'Difference between ELO Ratings', color = pal[1])\n",
        "ax.set_xlabel('ELO Difference')\n",
        "plt.show()"
      ],
      "metadata": {
        "colab": {
          "base_uri": "https://localhost:8080/",
          "height": 453
        },
        "id": "IF3uGKT3F7BG",
        "outputId": "14dc914c-4b92-4719-d305-7def2c09795e"
      },
      "execution_count": null,
      "outputs": [
        {
          "output_type": "display_data",
          "data": {
            "text/plain": [
              "<Figure size 640x480 with 1 Axes>"
            ],
            "image/png": "[encoded data removed]"
          },
          "metadata": {}
        }
      ]
    },
    {
      "cell_type": "code",
      "source": [
        "df_elo[['WhiteElo', 'BlackElo', 'Elo_diff', 'Result']]"
      ],
      "metadata": {
        "colab": {
          "base_uri": "https://localhost:8080/",
          "height": 423
        },
        "id": "jytYIMDQHB8O",
        "outputId": "82f4366f-94fe-4b5f-bb55-38915f278235"
      },
      "execution_count": null,
      "outputs": [
        {
          "output_type": "execute_result",
          "data": {
            "text/plain": [
              "         WhiteElo  BlackElo  Elo_diff   Result\n",
              "1503145      2037      1792      -245      1-0\n",
              "1504605      2113      2274       161  1/2-1/2\n",
              "1504603      2234      2313        79  1/2-1/2\n",
              "1504602      2322      2195      -127      1-0\n",
              "1503852      2178      2006      -172      1-0\n",
              "...           ...       ...       ...      ...\n",
              "1866687      2336      2519       183  1/2-1/2\n",
              "1866685      2387      2437        50  1/2-1/2\n",
              "1866684      2422      2478        56  1/2-1/2\n",
              "1866692      2526      2331      -195      1-0\n",
              "1866690      2345      2430        85  1/2-1/2\n",
              "\n",
              "[1768599 rows x 4 columns]"
            ],
            "text/html": [
              "\n",
              "  <div id=\"df-d2576896-da46-4a7b-b458-60f7657eb3c1\" class=\"colab-df-container\">\n",
              "    <div>\n",
              "<style scoped>\n",
              "    .dataframe tbody tr th:only-of-type {\n",
              "        vertical-align: middle;\n",
              "    }\n",
              "\n",
              "    .dataframe tbody tr th {\n",
              "        vertical-align: top;\n",
              "    }\n",
              "\n",
              "    .dataframe thead th {\n",
              "        text-align: right;\n",
              "    }\n",
              "</style>\n",
              "<table border=\"1\" class=\"dataframe\">\n",
              "  <thead>\n",
              "    <tr style=\"text-align: right;\">\n",
              "      <th></th>\n",
              "      <th>WhiteElo</th>\n",
              "      <th>BlackElo</th>\n",
              "      <th>Elo_diff</th>\n",
              "      <th>Result</th>\n",
              "    </tr>\n",
              "  </thead>\n",
              "  <tbody>\n",
              "    <tr>\n",
              "      <th>1503145</th>\n",
              "      <td>2037</td>\n",
              "      <td>1792</td>\n",
              "      <td>-245</td>\n",
              "      <td>1-0</td>\n",
              "    </tr>\n",
              "    <tr>\n",
              "      <th>1504605</th>\n",
              "      <td>2113</td>\n",
              "      <td>2274</td>\n",
              "      <td>161</td>\n",
              "      <td>1/2-1/2</td>\n",
              "    </tr>\n",
              "    <tr>\n",
              "      <th>1504603</th>\n",
              "      <td>2234</td>\n",
              "      <td>2313</td>\n",
              "      <td>79</td>\n",
              "      <td>1/2-1/2</td>\n",
              "    </tr>\n",
              "    <tr>\n",
              "      <th>1504602</th>\n",
              "      <td>2322</td>\n",
              "      <td>2195</td>\n",
              "      <td>-127</td>\n",
              "      <td>1-0</td>\n",
              "    </tr>\n",
              "    <tr>\n",
              "      <th>1503852</th>\n",
              "      <td>2178</td>\n",
              "      <td>2006</td>\n",
              "      <td>-172</td>\n",
              "      <td>1-0</td>\n",
              "    </tr>\n",
              "    <tr>\n",
              "      <th>...</th>\n",
              "      <td>...</td>\n",
              "      <td>...</td>\n",
              "      <td>...</td>\n",
              "      <td>...</td>\n",
              "    </tr>\n",
              "    <tr>\n",
              "      <th>1866687</th>\n",
              "      <td>2336</td>\n",
              "      <td>2519</td>\n",
              "      <td>183</td>\n",
              "      <td>1/2-1/2</td>\n",
              "    </tr>\n",
              "    <tr>\n",
              "      <th>1866685</th>\n",
              "      <td>2387</td>\n",
              "      <td>2437</td>\n",
              "      <td>50</td>\n",
              "      <td>1/2-1/2</td>\n",
              "    </tr>\n",
              "    <tr>\n",
              "      <th>1866684</th>\n",
              "      <td>2422</td>\n",
              "      <td>2478</td>\n",
              "      <td>56</td>\n",
              "      <td>1/2-1/2</td>\n",
              "    </tr>\n",
              "    <tr>\n",
              "      <th>1866692</th>\n",
              "      <td>2526</td>\n",
              "      <td>2331</td>\n",
              "      <td>-195</td>\n",
              "      <td>1-0</td>\n",
              "    </tr>\n",
              "    <tr>\n",
              "      <th>1866690</th>\n",
              "      <td>2345</td>\n",
              "      <td>2430</td>\n",
              "      <td>85</td>\n",
              "      <td>1/2-1/2</td>\n",
              "    </tr>\n",
              "  </tbody>\n",
              "</table>\n",
              "<p>1768599 rows × 4 columns</p>\n",
              "</div>\n",
              "    <div class=\"colab-df-buttons\">\n",
              "\n",
              "  <div class=\"colab-df-container\">\n",
              "    <button class=\"colab-df-convert\" onclick=\"convertToInteractive('df-d2576896-da46-4a7b-b458-60f7657eb3c1')\"\n",
              "            title=\"Convert this dataframe to an interactive table.\"\n",
              "            style=\"display:none;\">\n",
              "\n",
              "  <svg xmlns=\"http://www.w3.org/2000/svg\" height=\"24px\" viewBox=\"0 -960 960 960\">\n",
              "    <path d=\"M120-120v-720h720v720H120Zm60-500h600v-160H180v160Zm220 220h160v-160H400v160Zm0 220h160v-160H400v160ZM180-400h160v-160H180v160Zm440 0h160v-160H620v160ZM180-180h160v-160H180v160Zm440 0h160v-160H620v160Z\"/>\n",
              "  </svg>\n",
              "    </button>\n",
              "\n",
              "  <style>\n",
              "    .colab-df-container {\n",
              "      display:flex;\n",
              "      gap: 12px;\n",
              "    }\n",
              "\n",
              "    .colab-df-convert {\n",
              "      background-color: #E8F0FE;\n",
              "      border: none;\n",
              "      border-radius: 50%;\n",
              "      cursor: pointer;\n",
              "      display: none;\n",
              "      fill: #1967D2;\n",
              "      height: 32px;\n",
              "      padding: 0 0 0 0;\n",
              "      width: 32px;\n",
              "    }\n",
              "\n",
              "    .colab-df-convert:hover {\n",
              "      background-color: #E2EBFA;\n",
              "      box-shadow: 0px 1px 2px rgba(60, 64, 67, 0.3), 0px 1px 3px 1px rgba(60, 64, 67, 0.15);\n",
              "      fill: #174EA6;\n",
              "    }\n",
              "\n",
              "    .colab-df-buttons div {\n",
              "      margin-bottom: 4px;\n",
              "    }\n",
              "\n",
              "    [theme=dark] .colab-df-convert {\n",
              "      background-color: #3B4455;\n",
              "      fill: #D2E3FC;\n",
              "    }\n",
              "\n",
              "    [theme=dark] .colab-df-convert:hover {\n",
              "      background-color: #434B5C;\n",
              "      box-shadow: 0px 1px 3px 1px rgba(0, 0, 0, 0.15);\n",
              "      filter: drop-shadow(0px 1px 2px rgba(0, 0, 0, 0.3));\n",
              "      fill: #FFFFFF;\n",
              "    }\n",
              "  </style>\n",
              "\n",
              "    <script>\n",
              "      const buttonEl =\n",
              "        document.querySelector('#df-d2576896-da46-4a7b-b458-60f7657eb3c1 button.colab-df-convert');\n",
              "      buttonEl.style.display =\n",
              "        google.colab.kernel.accessAllowed ? 'block' : 'none';\n",
              "\n",
              "      async function convertToInteractive(key) {\n",
              "        const element = document.querySelector('#df-d2576896-da46-4a7b-b458-60f7657eb3c1');\n",
              "        const dataTable =\n",
              "          await google.colab.kernel.invokeFunction('convertToInteractive',\n",
              "                                                    [key], {});\n",
              "        if (!dataTable) return;\n",
              "\n",
              "        const docLinkHtml = 'Like what you see? Visit the ' +\n",
              "          '<a target=\"_blank\" href=https://colab.research.google.com/notebooks/data_table.ipynb>data table notebook</a>'\n",
              "          + ' to learn more about interactive tables.';\n",
              "        element.innerHTML = '';\n",
              "        dataTable['output_type'] = 'display_data';\n",
              "        await google.colab.output.renderOutput(dataTable, element);\n",
              "        const docLink = document.createElement('div');\n",
              "        docLink.innerHTML = docLinkHtml;\n",
              "        element.appendChild(docLink);\n",
              "      }\n",
              "    </script>\n",
              "  </div>\n",
              "\n",
              "\n",
              "<div id=\"df-2964ac8a-62e8-4d1f-b6f9-cabfd5a93815\">\n",
              "  <button class=\"colab-df-quickchart\" onclick=\"quickchart('df-2964ac8a-62e8-4d1f-b6f9-cabfd5a93815')\"\n",
              "            title=\"Suggest charts\"\n",
              "            style=\"display:none;\">\n",
              "\n",
              "<svg xmlns=\"http://www.w3.org/2000/svg\" height=\"24px\"viewBox=\"0 0 24 24\"\n",
              "     width=\"24px\">\n",
              "    <g>\n",
              "        <path d=\"M19 3H5c-1.1 0-2 .9-2 2v14c0 1.1.9 2 2 2h14c1.1 0 2-.9 2-2V5c0-1.1-.9-2-2-2zM9 17H7v-7h2v7zm4 0h-2V7h2v10zm4 0h-2v-4h2v4z\"/>\n",
              "    </g>\n",
              "</svg>\n",
              "  </button>\n",
              "\n",
              "<style>\n",
              "  .colab-df-quickchart {\n",
              "      --bg-color: #E8F0FE;\n",
              "      --fill-color: #1967D2;\n",
              "      --hover-bg-color: #E2EBFA;\n",
              "      --hover-fill-color: #174EA6;\n",
              "      --disabled-fill-color: #AAA;\n",
              "      --disabled-bg-color: #DDD;\n",
              "  }\n",
              "\n",
              "  [theme=dark] .colab-df-quickchart {\n",
              "      --bg-color: #3B4455;\n",
              "      --fill-color: #D2E3FC;\n",
              "      --hover-bg-color: #434B5C;\n",
              "      --hover-fill-color: #FFFFFF;\n",
              "      --disabled-bg-color: #3B4455;\n",
              "      --disabled-fill-color: #666;\n",
              "  }\n",
              "\n",
              "  .colab-df-quickchart {\n",
              "    background-color: var(--bg-color);\n",
              "    border: none;\n",
              "    border-radius: 50%;\n",
              "    cursor: pointer;\n",
              "    display: none;\n",
              "    fill: var(--fill-color);\n",
              "    height: 32px;\n",
              "    padding: 0;\n",
              "    width: 32px;\n",
              "  }\n",
              "\n",
              "  .colab-df-quickchart:hover {\n",
              "    background-color: var(--hover-bg-color);\n",
              "    box-shadow: 0 1px 2px rgba(60, 64, 67, 0.3), 0 1px 3px 1px rgba(60, 64, 67, 0.15);\n",
              "    fill: var(--button-hover-fill-color);\n",
              "  }\n",
              "\n",
              "  .colab-df-quickchart-complete:disabled,\n",
              "  .colab-df-quickchart-complete:disabled:hover {\n",
              "    background-color: var(--disabled-bg-color);\n",
              "    fill: var(--disabled-fill-color);\n",
              "    box-shadow: none;\n",
              "  }\n",
              "\n",
              "  .colab-df-spinner {\n",
              "    border: 2px solid var(--fill-color);\n",
              "    border-color: transparent;\n",
              "    border-bottom-color: var(--fill-color);\n",
              "    animation:\n",
              "      spin 1s steps(1) infinite;\n",
              "  }\n",
              "\n",
              "  @keyframes spin {\n",
              "    0% {\n",
              "      border-color: transparent;\n",
              "      border-bottom-color: var(--fill-color);\n",
              "      border-left-color: var(--fill-color);\n",
              "    }\n",
              "    20% {\n",
              "      border-color: transparent;\n",
              "      border-left-color: var(--fill-color);\n",
              "      border-top-color: var(--fill-color);\n",
              "    }\n",
              "    30% {\n",
              "      border-color: transparent;\n",
              "      border-left-color: var(--fill-color);\n",
              "      border-top-color: var(--fill-color);\n",
              "      border-right-color: var(--fill-color);\n",
              "    }\n",
              "    40% {\n",
              "      border-color: transparent;\n",
              "      border-right-color: var(--fill-color);\n",
              "      border-top-color: var(--fill-color);\n",
              "    }\n",
              "    60% {\n",
              "      border-color: transparent;\n",
              "      border-right-color: var(--fill-color);\n",
              "    }\n",
              "    80% {\n",
              "      border-color: transparent;\n",
              "      border-right-color: var(--fill-color);\n",
              "      border-bottom-color: var(--fill-color);\n",
              "    }\n",
              "    90% {\n",
              "      border-color: transparent;\n",
              "      border-bottom-color: var(--fill-color);\n",
              "    }\n",
              "  }\n",
              "</style>\n",
              "\n",
              "  <script>\n",
              "    async function quickchart(key) {\n",
              "      const quickchartButtonEl =\n",
              "        document.querySelector('#' + key + ' button');\n",
              "      quickchartButtonEl.disabled = true;  // To prevent multiple clicks.\n",
              "      quickchartButtonEl.classList.add('colab-df-spinner');\n",
              "      try {\n",
              "        const charts = await google.colab.kernel.invokeFunction(\n",
              "            'suggestCharts', [key], {});\n",
              "      } catch (error) {\n",
              "        console.error('Error during call to suggestCharts:', error);\n",
              "      }\n",
              "      quickchartButtonEl.classList.remove('colab-df-spinner');\n",
              "      quickchartButtonEl.classList.add('colab-df-quickchart-complete');\n",
              "    }\n",
              "    (() => {\n",
              "      let quickchartButtonEl =\n",
              "        document.querySelector('#df-2964ac8a-62e8-4d1f-b6f9-cabfd5a93815 button');\n",
              "      quickchartButtonEl.style.display =\n",
              "        google.colab.kernel.accessAllowed ? 'block' : 'none';\n",
              "    })();\n",
              "  </script>\n",
              "</div>\n",
              "\n",
              "    </div>\n",
              "  </div>\n"
            ],
            "application/vnd.google.colaboratory.intrinsic+json": {
              "type": "dataframe"
            }
          },
          "metadata": {},
          "execution_count": 102
        }
      ]
    },
    {
      "cell_type": "code",
      "source": [
        "df_elo['WhiteIsRatedHigher'] = df_elo['WhiteElo'] > df_elo['BlackElo']"
      ],
      "metadata": {
        "id": "bEVISABgHSUO"
      },
      "execution_count": null,
      "outputs": []
    },
    {
      "cell_type": "code",
      "source": [
        "df_upsets = (\n",
        "    df_elo.query(\"(WhiteIsRatedHigher and Result == '0-1') or (not WhiteIsRatedHigher and Result == '1-0')\"\n",
        "    ).reset_index(drop=True).copy()\n",
        ")"
      ],
      "metadata": {
        "id": "uTrZuH-wIesh"
      },
      "execution_count": null,
      "outputs": []
    },
    {
      "cell_type": "code",
      "source": [
        "df_upsets[['WhiteElo', 'BlackElo', 'Elo_diff', 'Result']]"
      ],
      "metadata": {
        "colab": {
          "base_uri": "https://localhost:8080/",
          "height": 423
        },
        "id": "8AGjtt2FKWc1",
        "outputId": "1b2520e7-0247-4c25-e742-7e84a15ae06a"
      },
      "execution_count": null,
      "outputs": [
        {
          "output_type": "execute_result",
          "data": {
            "text/plain": [
              "        WhiteElo  BlackElo  Elo_diff Result\n",
              "0           1940      2158       218    1-0\n",
              "1           2245      2094      -151    0-1\n",
              "2           2547      2148      -399    0-1\n",
              "3           2102      2315       213    1-0\n",
              "4           1964      2013        49    1-0\n",
              "...          ...       ...       ...    ...\n",
              "333477      2491      2358      -133    0-1\n",
              "333478      2510      2521        11    1-0\n",
              "333479      2044      2352       308    1-0\n",
              "333480      2214      2513       299    1-0\n",
              "333481      2439      2332      -107    0-1\n",
              "\n",
              "[333482 rows x 4 columns]"
            ],
            "text/html": [
              "\n",
              "  <div id=\"df-9b3c2d06-bc1a-4449-836b-344b43d99e5c\" class=\"colab-df-container\">\n",
              "    <div>\n",
              "<style scoped>\n",
              "    .dataframe tbody tr th:only-of-type {\n",
              "        vertical-align: middle;\n",
              "    }\n",
              "\n",
              "    .dataframe tbody tr th {\n",
              "        vertical-align: top;\n",
              "    }\n",
              "\n",
              "    .dataframe thead th {\n",
              "        text-align: right;\n",
              "    }\n",
              "</style>\n",
              "<table border=\"1\" class=\"dataframe\">\n",
              "  <thead>\n",
              "    <tr style=\"text-align: right;\">\n",
              "      <th></th>\n",
              "      <th>WhiteElo</th>\n",
              "      <th>BlackElo</th>\n",
              "      <th>Elo_diff</th>\n",
              "      <th>Result</th>\n",
              "    </tr>\n",
              "  </thead>\n",
              "  <tbody>\n",
              "    <tr>\n",
              "      <th>0</th>\n",
              "      <td>1940</td>\n",
              "      <td>2158</td>\n",
              "      <td>218</td>\n",
              "      <td>1-0</td>\n",
              "    </tr>\n",
              "    <tr>\n",
              "      <th>1</th>\n",
              "      <td>2245</td>\n",
              "      <td>2094</td>\n",
              "      <td>-151</td>\n",
              "      <td>0-1</td>\n",
              "    </tr>\n",
              "    <tr>\n",
              "      <th>2</th>\n",
              "      <td>2547</td>\n",
              "      <td>2148</td>\n",
              "      <td>-399</td>\n",
              "      <td>0-1</td>\n",
              "    </tr>\n",
              "    <tr>\n",
              "      <th>3</th>\n",
              "      <td>2102</td>\n",
              "      <td>2315</td>\n",
              "      <td>213</td>\n",
              "      <td>1-0</td>\n",
              "    </tr>\n",
              "    <tr>\n",
              "      <th>4</th>\n",
              "      <td>1964</td>\n",
              "      <td>2013</td>\n",
              "      <td>49</td>\n",
              "      <td>1-0</td>\n",
              "    </tr>\n",
              "    <tr>\n",
              "      <th>...</th>\n",
              "      <td>...</td>\n",
              "      <td>...</td>\n",
              "      <td>...</td>\n",
              "      <td>...</td>\n",
              "    </tr>\n",
              "    <tr>\n",
              "      <th>333477</th>\n",
              "      <td>2491</td>\n",
              "      <td>2358</td>\n",
              "      <td>-133</td>\n",
              "      <td>0-1</td>\n",
              "    </tr>\n",
              "    <tr>\n",
              "      <th>333478</th>\n",
              "      <td>2510</td>\n",
              "      <td>2521</td>\n",
              "      <td>11</td>\n",
              "      <td>1-0</td>\n",
              "    </tr>\n",
              "    <tr>\n",
              "      <th>333479</th>\n",
              "      <td>2044</td>\n",
              "      <td>2352</td>\n",
              "      <td>308</td>\n",
              "      <td>1-0</td>\n",
              "    </tr>\n",
              "    <tr>\n",
              "      <th>333480</th>\n",
              "      <td>2214</td>\n",
              "      <td>2513</td>\n",
              "      <td>299</td>\n",
              "      <td>1-0</td>\n",
              "    </tr>\n",
              "    <tr>\n",
              "      <th>333481</th>\n",
              "      <td>2439</td>\n",
              "      <td>2332</td>\n",
              "      <td>-107</td>\n",
              "      <td>0-1</td>\n",
              "    </tr>\n",
              "  </tbody>\n",
              "</table>\n",
              "<p>333482 rows × 4 columns</p>\n",
              "</div>\n",
              "    <div class=\"colab-df-buttons\">\n",
              "\n",
              "  <div class=\"colab-df-container\">\n",
              "    <button class=\"colab-df-convert\" onclick=\"convertToInteractive('df-9b3c2d06-bc1a-4449-836b-344b43d99e5c')\"\n",
              "            title=\"Convert this dataframe to an interactive table.\"\n",
              "            style=\"display:none;\">\n",
              "\n",
              "  <svg xmlns=\"http://www.w3.org/2000/svg\" height=\"24px\" viewBox=\"0 -960 960 960\">\n",
              "    <path d=\"M120-120v-720h720v720H120Zm60-500h600v-160H180v160Zm220 220h160v-160H400v160Zm0 220h160v-160H400v160ZM180-400h160v-160H180v160Zm440 0h160v-160H620v160ZM180-180h160v-160H180v160Zm440 0h160v-160H620v160Z\"/>\n",
              "  </svg>\n",
              "    </button>\n",
              "\n",
              "  <style>\n",
              "    .colab-df-container {\n",
              "      display:flex;\n",
              "      gap: 12px;\n",
              "    }\n",
              "\n",
              "    .colab-df-convert {\n",
              "      background-color: #E8F0FE;\n",
              "      border: none;\n",
              "      border-radius: 50%;\n",
              "      cursor: pointer;\n",
              "      display: none;\n",
              "      fill: #1967D2;\n",
              "      height: 32px;\n",
              "      padding: 0 0 0 0;\n",
              "      width: 32px;\n",
              "    }\n",
              "\n",
              "    .colab-df-convert:hover {\n",
              "      background-color: #E2EBFA;\n",
              "      box-shadow: 0px 1px 2px rgba(60, 64, 67, 0.3), 0px 1px 3px 1px rgba(60, 64, 67, 0.15);\n",
              "      fill: #174EA6;\n",
              "    }\n",
              "\n",
              "    .colab-df-buttons div {\n",
              "      margin-bottom: 4px;\n",
              "    }\n",
              "\n",
              "    [theme=dark] .colab-df-convert {\n",
              "      background-color: #3B4455;\n",
              "      fill: #D2E3FC;\n",
              "    }\n",
              "\n",
              "    [theme=dark] .colab-df-convert:hover {\n",
              "      background-color: #434B5C;\n",
              "      box-shadow: 0px 1px 3px 1px rgba(0, 0, 0, 0.15);\n",
              "      filter: drop-shadow(0px 1px 2px rgba(0, 0, 0, 0.3));\n",
              "      fill: #FFFFFF;\n",
              "    }\n",
              "  </style>\n",
              "\n",
              "    <script>\n",
              "      const buttonEl =\n",
              "        document.querySelector('#df-9b3c2d06-bc1a-4449-836b-344b43d99e5c button.colab-df-convert');\n",
              "      buttonEl.style.display =\n",
              "        google.colab.kernel.accessAllowed ? 'block' : 'none';\n",
              "\n",
              "      async function convertToInteractive(key) {\n",
              "        const element = document.querySelector('#df-9b3c2d06-bc1a-4449-836b-344b43d99e5c');\n",
              "        const dataTable =\n",
              "          await google.colab.kernel.invokeFunction('convertToInteractive',\n",
              "                                                    [key], {});\n",
              "        if (!dataTable) return;\n",
              "\n",
              "        const docLinkHtml = 'Like what you see? Visit the ' +\n",
              "          '<a target=\"_blank\" href=https://colab.research.google.com/notebooks/data_table.ipynb>data table notebook</a>'\n",
              "          + ' to learn more about interactive tables.';\n",
              "        element.innerHTML = '';\n",
              "        dataTable['output_type'] = 'display_data';\n",
              "        await google.colab.output.renderOutput(dataTable, element);\n",
              "        const docLink = document.createElement('div');\n",
              "        docLink.innerHTML = docLinkHtml;\n",
              "        element.appendChild(docLink);\n",
              "      }\n",
              "    </script>\n",
              "  </div>\n",
              "\n",
              "\n",
              "<div id=\"df-5479e61a-3a88-4843-8367-5e47ab5a4371\">\n",
              "  <button class=\"colab-df-quickchart\" onclick=\"quickchart('df-5479e61a-3a88-4843-8367-5e47ab5a4371')\"\n",
              "            title=\"Suggest charts\"\n",
              "            style=\"display:none;\">\n",
              "\n",
              "<svg xmlns=\"http://www.w3.org/2000/svg\" height=\"24px\"viewBox=\"0 0 24 24\"\n",
              "     width=\"24px\">\n",
              "    <g>\n",
              "        <path d=\"M19 3H5c-1.1 0-2 .9-2 2v14c0 1.1.9 2 2 2h14c1.1 0 2-.9 2-2V5c0-1.1-.9-2-2-2zM9 17H7v-7h2v7zm4 0h-2V7h2v10zm4 0h-2v-4h2v4z\"/>\n",
              "    </g>\n",
              "</svg>\n",
              "  </button>\n",
              "\n",
              "<style>\n",
              "  .colab-df-quickchart {\n",
              "      --bg-color: #E8F0FE;\n",
              "      --fill-color: #1967D2;\n",
              "      --hover-bg-color: #E2EBFA;\n",
              "      --hover-fill-color: #174EA6;\n",
              "      --disabled-fill-color: #AAA;\n",
              "      --disabled-bg-color: #DDD;\n",
              "  }\n",
              "\n",
              "  [theme=dark] .colab-df-quickchart {\n",
              "      --bg-color: #3B4455;\n",
              "      --fill-color: #D2E3FC;\n",
              "      --hover-bg-color: #434B5C;\n",
              "      --hover-fill-color: #FFFFFF;\n",
              "      --disabled-bg-color: #3B4455;\n",
              "      --disabled-fill-color: #666;\n",
              "  }\n",
              "\n",
              "  .colab-df-quickchart {\n",
              "    background-color: var(--bg-color);\n",
              "    border: none;\n",
              "    border-radius: 50%;\n",
              "    cursor: pointer;\n",
              "    display: none;\n",
              "    fill: var(--fill-color);\n",
              "    height: 32px;\n",
              "    padding: 0;\n",
              "    width: 32px;\n",
              "  }\n",
              "\n",
              "  .colab-df-quickchart:hover {\n",
              "    background-color: var(--hover-bg-color);\n",
              "    box-shadow: 0 1px 2px rgba(60, 64, 67, 0.3), 0 1px 3px 1px rgba(60, 64, 67, 0.15);\n",
              "    fill: var(--button-hover-fill-color);\n",
              "  }\n",
              "\n",
              "  .colab-df-quickchart-complete:disabled,\n",
              "  .colab-df-quickchart-complete:disabled:hover {\n",
              "    background-color: var(--disabled-bg-color);\n",
              "    fill: var(--disabled-fill-color);\n",
              "    box-shadow: none;\n",
              "  }\n",
              "\n",
              "  .colab-df-spinner {\n",
              "    border: 2px solid var(--fill-color);\n",
              "    border-color: transparent;\n",
              "    border-bottom-color: var(--fill-color);\n",
              "    animation:\n",
              "      spin 1s steps(1) infinite;\n",
              "  }\n",
              "\n",
              "  @keyframes spin {\n",
              "    0% {\n",
              "      border-color: transparent;\n",
              "      border-bottom-color: var(--fill-color);\n",
              "      border-left-color: var(--fill-color);\n",
              "    }\n",
              "    20% {\n",
              "      border-color: transparent;\n",
              "      border-left-color: var(--fill-color);\n",
              "      border-top-color: var(--fill-color);\n",
              "    }\n",
              "    30% {\n",
              "      border-color: transparent;\n",
              "      border-left-color: var(--fill-color);\n",
              "      border-top-color: var(--fill-color);\n",
              "      border-right-color: var(--fill-color);\n",
              "    }\n",
              "    40% {\n",
              "      border-color: transparent;\n",
              "      border-right-color: var(--fill-color);\n",
              "      border-top-color: var(--fill-color);\n",
              "    }\n",
              "    60% {\n",
              "      border-color: transparent;\n",
              "      border-right-color: var(--fill-color);\n",
              "    }\n",
              "    80% {\n",
              "      border-color: transparent;\n",
              "      border-right-color: var(--fill-color);\n",
              "      border-bottom-color: var(--fill-color);\n",
              "    }\n",
              "    90% {\n",
              "      border-color: transparent;\n",
              "      border-bottom-color: var(--fill-color);\n",
              "    }\n",
              "  }\n",
              "</style>\n",
              "\n",
              "  <script>\n",
              "    async function quickchart(key) {\n",
              "      const quickchartButtonEl =\n",
              "        document.querySelector('#' + key + ' button');\n",
              "      quickchartButtonEl.disabled = true;  // To prevent multiple clicks.\n",
              "      quickchartButtonEl.classList.add('colab-df-spinner');\n",
              "      try {\n",
              "        const charts = await google.colab.kernel.invokeFunction(\n",
              "            'suggestCharts', [key], {});\n",
              "      } catch (error) {\n",
              "        console.error('Error during call to suggestCharts:', error);\n",
              "      }\n",
              "      quickchartButtonEl.classList.remove('colab-df-spinner');\n",
              "      quickchartButtonEl.classList.add('colab-df-quickchart-complete');\n",
              "    }\n",
              "    (() => {\n",
              "      let quickchartButtonEl =\n",
              "        document.querySelector('#df-5479e61a-3a88-4843-8367-5e47ab5a4371 button');\n",
              "      quickchartButtonEl.style.display =\n",
              "        google.colab.kernel.accessAllowed ? 'block' : 'none';\n",
              "    })();\n",
              "  </script>\n",
              "</div>\n",
              "\n",
              "    </div>\n",
              "  </div>\n"
            ],
            "application/vnd.google.colaboratory.intrinsic+json": {
              "type": "dataframe"
            }
          },
          "metadata": {},
          "execution_count": 114
        }
      ]
    },
    {
      "cell_type": "code",
      "source": [
        "#upsets across all ELO levels\n",
        "ax = df_upsets['Elo_diff'].plot(\n",
        "    kind='hist',\n",
        "    bins=50,\n",
        "    title = 'Difference between ELO Ratings for Upsets',\n",
        "    color = pal[2])\n",
        "ax.set_xlabel('ELO Difference')\n",
        "plt.show()"
      ],
      "metadata": {
        "id": "b0sCGEqlKo1s"
      },
      "execution_count": null,
      "outputs": []
    },
    {
      "cell_type": "code",
      "source": [
        "df_upsets.loc[df_upsets[['WhiteElo', 'BlackElo']].max(axis=1) > 2500]"
      ],
      "metadata": {
        "id": "cqjuqP6ILON0"
      },
      "execution_count": null,
      "outputs": []
    },
    {
      "cell_type": "code",
      "source": [
        "#upsets across all ELO levels\n",
        "ax = df_upsets.loc[df_upsets[['WhiteElo', 'BlackElo']].max(axis=1) > 2500]['Elo_diff'].plot(\n",
        "    kind='hist',\n",
        "    bins=50,\n",
        "    title = 'Difference between ELO Ratings for Upsets for 2000+ ELO',\n",
        "    color = pal[2])"
      ],
      "metadata": {
        "id": "He2lFOzlLmBf"
      },
      "execution_count": null,
      "outputs": []
    },
    {
      "cell_type": "code",
      "source": [
        "#try and get a better understanding of both graphs by plotting them on top of each other\n",
        "ax = df_upsets['Elo_diff'].plot(\n",
        "    kind='hist',\n",
        "    bins=50,\n",
        "    title = 'Difference between ELO Ratings for Upsets',\n",
        "    color = pal[2],\n",
        "    alpha = 0.5)\n",
        "#ax.set_xlabel('ELO Difference')\n",
        "\n",
        "ax = df_upsets.loc[df_upsets[['WhiteElo', 'BlackElo']].max(axis=1) > 2500]['Elo_diff'].plot(\n",
        "    kind='hist',\n",
        "    bins=50,\n",
        "    title = 'Difference between ELO Ratings for Upsets for 2000+ ELO',\n",
        "    color = pal[5],\n",
        "    alpha = 0.5)\n",
        "\n",
        "ax.set_xlabel('ELO Difference')\n",
        "plt.show()\n",
        "ax.set_xlabel('ElO Difference')\n",
        "plt.show()"
      ],
      "metadata": {
        "colab": {
          "base_uri": "https://localhost:8080/",
          "height": 477
        },
        "id": "LMntxmgZMc6i",
        "outputId": "9c4fbcac-8f99-46b2-948a-c2f6f3663452"
      },
      "execution_count": null,
      "outputs": [
        {
          "output_type": "display_data",
          "data": {
            "text/plain": [
              "<Figure size 640x480 with 1 Axes>"
            ],
            "image/png": "[encoded data removed]"
          },
          "metadata": {}
        }
      ]
    },
    {
      "cell_type": "code",
      "source": [
        "#let us take a look at some of these upsets but only for over the board games\n",
        "df_upsets.loc[df_upsets[['WhiteElo', 'BlackElo']].max(axis=1) > 2500].query(\n",
        "    'Online == False')['Elo_diff'].plot(\n",
        "        kind='hist',\n",
        "        bins=50,\n",
        "        title = 'Difference between ELO Ratings for Upsets for 2000+ ELO',\n",
        "        color = pal[5],\n",
        "        #alpha = 0.5\n",
        "    )\n",
        "\n"
      ],
      "metadata": {
        "colab": {
          "base_uri": "https://localhost:8080/",
          "height": 470
        },
        "id": "FrS026_COA6C",
        "outputId": "a30cdbd4-0d66-4804-f0f3-a5fe50eff625"
      },
      "execution_count": null,
      "outputs": [
        {
          "output_type": "execute_result",
          "data": {
            "text/plain": [
              "<Axes: title={'center': 'Difference between ELO Ratings for Upsets for 2000+ ELO'}, ylabel='Frequency'>"
            ]
          },
          "metadata": {},
          "execution_count": 125
        },
        {
          "output_type": "display_data",
          "data": {
            "text/plain": [
              "<Figure size 640x480 with 1 Axes>"
            ],
            "image/png": "[encoded data removed]"
          },
          "metadata": {}
        }
      ]
    }
  ]
}